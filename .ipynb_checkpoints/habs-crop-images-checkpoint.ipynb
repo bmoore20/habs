{
 "cells": [
  {
   "cell_type": "markdown",
   "id": "charming-sherman",
   "metadata": {},
   "source": [
    "### Crop image then resize"
   ]
  },
  {
   "cell_type": "code",
   "execution_count": 17,
   "id": "sixth-edgar",
   "metadata": {},
   "outputs": [
    {
     "name": "stdout",
     "output_type": "stream",
     "text": [
      "1280\n",
      "736\n",
      "699.2\n"
     ]
    }
   ],
   "source": [
    "from PIL import Image\n",
    "\n",
    "im = Image.open(\"/Users/elizabethmoore/PPs/habs_github/data/test_images/bga/bga Test1.jpg\")\n",
    "\n",
    "width, height = im.size\n",
    "\n",
    "print(width)\n",
    "print(height)\n",
    "\n",
    "im.show()\n",
    "\n",
    "# setting points from cropped image\n",
    "left = 0\n",
    "upper = 0\n",
    "right = width\n",
    "lower = height - (height * 0.05)\n",
    "\n",
    "print(lower)\n",
    "\n",
    "im_crop = im.crop((left, upper, right, lower))\n",
    "\n",
    "im_crop.show()\n",
    "\n",
    "im_resize = im_crop.resize((32, 32))\n",
    "\n",
    "im_resize.show()"
   ]
  },
  {
   "cell_type": "markdown",
   "id": "needed-digit",
   "metadata": {},
   "source": [
    "#### Result: date & time pixels are successfully removed & image is scaled down"
   ]
  },
  {
   "cell_type": "markdown",
   "id": "uniform-minneapolis",
   "metadata": {},
   "source": [
    "### Resize image then crop"
   ]
  },
  {
   "cell_type": "code",
   "execution_count": 18,
   "id": "increasing-edmonton",
   "metadata": {},
   "outputs": [
    {
     "name": "stdout",
     "output_type": "stream",
     "text": [
      "1280\n",
      "736\n",
      "699.2\n"
     ]
    }
   ],
   "source": [
    "from PIL import Image\n",
    "\n",
    "im = Image.open(\"/Users/elizabethmoore/PPs/habs_github/data/test_images/bga/bga Test1.jpg\")\n",
    "\n",
    "width, height = im.size\n",
    "\n",
    "print(width)\n",
    "print(height)\n",
    "\n",
    "im.show()\n",
    "\n",
    "im_resize = im.resize((32, 32))\n",
    "\n",
    "im_resize.show()\n",
    "\n",
    "# setting points from cropped image\n",
    "left = 0\n",
    "upper = 0\n",
    "right = width\n",
    "lower = height - (height * 0.05)\n",
    "\n",
    "print(lower)\n",
    "\n",
    "im_crop = im_resize.crop((left, upper, right, lower))\n",
    "\n",
    "im_crop.show()\n"
   ]
  },
  {
   "cell_type": "markdown",
   "id": "comparable-valley",
   "metadata": {},
   "source": [
    "#### Result: image is scaled down but date & time pixels are NOT removed!!!!"
   ]
  },
  {
   "cell_type": "code",
   "execution_count": null,
   "id": "younger-exhibit",
   "metadata": {},
   "outputs": [],
   "source": []
  }
 ],
 "metadata": {
  "kernelspec": {
   "display_name": "Python 3",
   "language": "python",
   "name": "python3"
  },
  "language_info": {
   "codemirror_mode": {
    "name": "ipython",
    "version": 3
   },
   "file_extension": ".py",
   "mimetype": "text/x-python",
   "name": "python",
   "nbconvert_exporter": "python",
   "pygments_lexer": "ipython3",
   "version": "3.7.10"
  }
 },
 "nbformat": 4,
 "nbformat_minor": 5
}
